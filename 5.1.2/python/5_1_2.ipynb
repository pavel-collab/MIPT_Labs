{
  "cells": [
    {
      "cell_type": "code",
      "execution_count": 2,
      "metadata": {
        "id": "H4LiGs519b2U"
      },
      "outputs": [],
      "source": [
        "import math\n",
        "import numpy as np\n",
        "import matplotlib.pyplot as plt\n",
        "import pandas as pd\n",
        "from scipy.interpolate import interp1d\n",
        "import seaborn as sns\n",
        "from scipy.stats import linregress\n",
        "from scipy.optimize import curve_fit\n",
        "import sympy"
      ]
    },
    {
      "cell_type": "code",
      "execution_count": 3,
      "metadata": {
        "id": "_Hfbh4Jf9h62"
      },
      "outputs": [],
      "source": [
        "# angle = np.array(range(0, 120+1, 10))                                           # угол рассеянья\n",
        "# N = np.array([968, 843, 852, 742, 664, 583, 518, 459, 414, 366, 332, 303, 288]) # номер канала"
      ]
    },
    {
      "cell_type": "code",
      "execution_count": 4,
      "metadata": {},
      "outputs": [],
      "source": [
        "# Полцчаем файловый дескриптор файла с данными\n",
        "fd = pd.read_excel(\"../data/data.ods\")\n",
        "\n",
        "angle   = np.array(fd['theta'])                    # угол поворота\n",
        "N       = np.array(fd['N'])                        # номер канала\n",
        "sigma_x = np.array(fd['sigma 1-cos'])              # абсолютная погрешность величины 1 - cos \n",
        "sigma_y = np.array(fd['sigma 1/N 10^-5']) / 100000 # абсолютная погрешность величины 1/M\n"
      ]
    },
    {
      "cell_type": "code",
      "execution_count": 10,
      "metadata": {
        "id": "JVod3GMG_HAu"
      },
      "outputs": [
        {
          "name": "stdout",
          "output_type": "stream",
          "text": [
            "Slope: 0.001607 +- 0.000021\n",
            "N(0): 0.001113 +- 0.000017\n",
            "N(90) 0.002720\n",
            "--------------------------------------------------\n",
            "Относительная погрешность N(0) = 0.014918\n",
            "Относительная погрешность N(90) = 0.013889\n",
            "==================================================\n",
            "Best approx to the chanales\n",
            "N(0) = 898.414554\n",
            "N(90) = 367.673911\n"
          ]
        }
      ],
      "source": [
        "# x = np.ones(np.shape(angle)[0]) - np.cos(angle*3.14/180)\n",
        "x = np.ones(np.shape(angle)[0]) - np.cos(angle)\n",
        "y = 1 / N\n",
        "\n",
        "lin = linregress(x, y)\n",
        "\n",
        "print('Slope: %lf +- %lf' %(lin.slope, lin.stderr))\n",
        "print('N(0): %lf +- %lf' %(lin.intercept, lin.intercept_stderr))\n",
        "print('N(90) %lf' %(lin.intercept + lin.slope))\n",
        "print('-'*50)\n",
        "print('Относительная погрешность N(0) = %lf' %(lin.intercept_stderr/lin.intercept))\n",
        "print('Относительная погрешность N(90) = %lf' %((lin.intercept_stderr+lin.stderr)/(lin.intercept + lin.slope)))\n",
        "print('='*50)\n",
        "print('Best approx to the chanales')\n",
        "print('N(0) = %f' %(1 / lin.intercept))\n",
        "print('N(90) = %f' %(1 / (lin.intercept + lin.slope)))"
      ]
    },
    {
      "cell_type": "code",
      "execution_count": 6,
      "metadata": {
        "colab": {
          "base_uri": "https://localhost:8080/",
          "height": 265
        },
        "id": "pYv4127Y_2O8",
        "outputId": "b1ee2615-e424-4462-cd54-99090c21b352"
      },
      "outputs": [
        {
          "data": {
            "image/png": "[encoded data removed]",
            "text/plain": [
              "<Figure size 432x288 with 1 Axes>"
            ]
          },
          "metadata": {
            "needs_background": "light"
          },
          "output_type": "display_data"
        }
      ],
      "source": [
        "# plt.scatter(x, y)\n",
        "plt.errorbar(x, y, xerr=sigma_x, yerr=sigma_y, fmt='.', ecolor='black', color='black')\n",
        "plt.plot(x, lin.intercept + lin.slope * x)\n",
        "plt.minorticks_on()\n",
        "plt.grid(which = 'major', color = 'black', linewidth = 1, linestyle = '-', alpha = 0.75)\n",
        "plt.grid(which = 'minor', color = 'grey', linewidth = 1, linestyle = '--', alpha = 0.5)\n",
        "\n",
        "plt.xlabel(r'$1 - \\cos \\theta$')\n",
        "plt.ylabel(r'1/N')\n",
        "# plt.text(0.0, 0.003, r'Slope: $k = (%0.2lf \\pm %0.2lf) \\cdot 10^{-5}$' %(lin.slope*100000, lin.stderr*100000),\n",
        "#            size = 8,\n",
        "#            bbox=dict(facecolor='white', edgecolor='black', pad=10.0))\n",
        "\n",
        "plt.savefig('../images/graph.pdf')"
      ]
    }
  ],
  "metadata": {
    "colab": {
      "provenance": []
    },
    "kernelspec": {
      "display_name": "Python 3.8.10 64-bit",
      "language": "python",
      "name": "python3"
    },
    "language_info": {
      "codemirror_mode": {
        "name": "ipython",
        "version": 3
      },
      "file_extension": ".py",
      "mimetype": "text/x-python",
      "name": "python",
      "nbconvert_exporter": "python",
      "pygments_lexer": "ipython3",
      "version": "3.8.10"
    },
    "vscode": {
      "interpreter": {
        "hash": "916dbcbb3f70747c44a77c7bcd40155683ae19c65e1c03b4aa3499c5328201f1"
      }
    }
  },
  "nbformat": 4,
  "nbformat_minor": 0
}
